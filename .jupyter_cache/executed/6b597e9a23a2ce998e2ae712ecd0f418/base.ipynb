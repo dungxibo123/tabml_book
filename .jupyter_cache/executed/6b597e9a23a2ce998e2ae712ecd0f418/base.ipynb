{
 "cells": [
  {
   "cell_type": "code",
   "execution_count": 1,
   "id": "mental-grain",
   "metadata": {},
   "outputs": [
    {
     "name": "stdout",
     "output_type": "stream",
     "text": [
      "ls: data/titanic: No such file or directory\r\n"
     ]
    }
   ],
   "source": [
    "!cd ../\n",
    "!ls data/titanic"
   ]
  },
  {
   "cell_type": "code",
   "execution_count": 2,
   "id": "beautiful-relevance",
   "metadata": {},
   "outputs": [
    {
     "name": "stdout",
     "output_type": "stream",
     "text": [
      "--------------train.csv------------------\r\n"
     ]
    },
    {
     "name": "stdout",
     "output_type": "stream",
     "text": [
      "| PassengerId | Survived | Pclass | Name                                                                               | Sex    |   Age | SibSp | Parch | Ticket             |     Fare | Cabin           | Embarked |\r\n",
      "| ----------- | -------- | ------ | ---------------------------------------------------------------------------------- | ------ | ----- | ----- | ----- | ------------------ | -------- | --------------- | -------- |\r\n",
      "|           1 |    False |      3 | Braund, Mr. Owen Harris                                                            | male   | 22.00 |     1 |     0 | A/5 21171          |   7.250… |                 | S        |\r\n",
      "|           2 |     True |      1 | Cumings, Mrs. John Bradley (Florence Briggs Thayer)                                | female | 38.00 |     1 |     0 | PC 17599           |  71.283… | C85             | C        |\r\n",
      "|           3 |     True |      3 | Heikkinen, Miss. Laina                                                             | female | 26.00 |     0 |     0 | ST"
     ]
    },
    {
     "name": "stdout",
     "output_type": "stream",
     "text": [
      "ON/O2. 3101282   |   7.925… |                 | S        |\r\n"
     ]
    },
    {
     "name": "stdout",
     "output_type": "stream",
     "text": [
      "--------------test.csv------------\r\n"
     ]
    },
    {
     "name": "stdout",
     "output_type": "stream",
     "text": [
      "| PassengerId | Pclass | Name                                                            | Sex    |   Age | SibSp | Parch | Ticket             |     Fare | Cabin           | Embarked |\r\n",
      "| ----------- | ------ | --------------------------------------------------------------- | ------ | ----- | ----- | ----- | ------------------ | -------- | --------------- | -------- |\r\n",
      "|         892 |      3 | Kelly, Mr. James                                                | male   | 34.50 |     0 |     0 | 330911             |   7.829… |                 | Q        |\r\n",
      "|         893 |      3 | Wilkes, Mrs. James (Ellen Needs)                                | female | 47.00 |     1 |     0 | 363272             |   7.000… |                 | S        |\r\n",
      "|         894 |      2 | Myles, Mr. Thomas Francis                                       | male   | 62.00 |     0 |     0 | 240276             |   9.688… |                 | Q        |\r\n"
     ]
    },
    {
     "name": "stdout",
     "output_type": "stream",
     "text": [
      "----------------gender_submission.csv---------------\r\n"
     ]
    },
    {
     "name": "stdout",
     "output_type": "stream",
     "text": [
      "| PassengerId | Survived |\r\n",
      "| ----------- | -------- |\r\n",
      "|         892 |    False |\r\n",
      "|         893 |     True |\r\n",
      "|         894 |    False |\r\n"
     ]
    }
   ],
   "source": [
    "!echo \"--------------train.csv------------------\"\n",
    "!csvlook ../data/titanic/train.csv | head -5\n",
    "!echo \"--------------test.csv------------\"\n",
    "!csvlook ../data/titanic/test.csv | head -5\n",
    "!echo \"----------------gender_submission.csv---------------\"\n",
    "!csvlook ../data/titanic/gender_submission.csv | head -5"
   ]
  },
  {
   "cell_type": "code",
   "execution_count": null,
   "id": "immediate-weekly",
   "metadata": {},
   "outputs": [],
   "source": []
  }
 ],
 "metadata": {
  "jupytext": {
   "text_representation": {
    "extension": ".md",
    "format_name": "myst",
    "format_version": 0.12,
    "jupytext_version": "1.8.2"
   }
  },
  "kernelspec": {
   "display_name": "Python 3",
   "language": "python",
   "name": "python3"
  },
  "language_info": {
   "codemirror_mode": {
    "name": "ipython",
    "version": 3
   },
   "file_extension": ".py",
   "mimetype": "text/x-python",
   "name": "python",
   "nbconvert_exporter": "python",
   "pygments_lexer": "ipython3",
   "version": "3.8.8"
  },
  "source_map": [
   12,
   19,
   22,
   26,
   33,
   77
  ]
 },
 "nbformat": 4,
 "nbformat_minor": 5
}