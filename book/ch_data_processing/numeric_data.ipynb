{
 "cells": [
  {
   "cell_type": "markdown",
   "id": "weighted-postage",
   "metadata": {},
   "source": [
    "# Đặc trưng dạng số\n",
    "\n",
    "(sec_one_hot)=\n",
    "## Mã hóa one-hot\n",
    "\n",
    "## Hashing\n",
    "\n",
    "## Crossing\n",
    "\n",
    "(sec_embedding)=\n",
    "## Embedding"
   ]
  },
  {
   "cell_type": "code",
   "execution_count": null,
   "id": "amazing-dialogue",
   "metadata": {},
   "outputs": [],
   "source": []
  }
 ],
 "metadata": {
  "kernelspec": {
   "display_name": "Python 3",
   "language": "python",
   "name": "python3"
  },
  "language_info": {
   "codemirror_mode": {
    "name": "ipython",
    "version": 3
   },
   "file_extension": ".py",
   "mimetype": "text/x-python",
   "name": "python",
   "nbconvert_exporter": "python",
   "pygments_lexer": "ipython3",
   "version": "3.8.7"
  }
 },
 "nbformat": 4,
 "nbformat_minor": 5
}
