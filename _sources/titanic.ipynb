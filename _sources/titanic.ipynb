{
 "cells": [
  {
   "cell_type": "markdown",
   "id": "successful-tissue",
   "metadata": {},
   "source": [
    "# Làm sạch dữ liệu titanic"
   ]
  },
  {
   "cell_type": "code",
   "execution_count": 1,
   "id": "korean-ribbon",
   "metadata": {},
   "outputs": [],
   "source": [
    "%%capture\n",
    "!rm -rf nb_data/titanic; mkdir -p nb_data/titanic\n",
    "!pip install kaggle;\n",
    "!kaggle competitions download -c titanic -p nb_data/titanic;\n"
   ]
  },
  {
   "cell_type": "markdown",
   "id": "suspected-brisbane",
   "metadata": {},
   "source": [
    "Unzip `titanic.zip`"
   ]
  },
  {
   "cell_type": "code",
   "execution_count": 2,
   "id": "waiting-cabinet",
   "metadata": {},
   "outputs": [
    {
     "name": "stdout",
     "output_type": "stream",
     "text": [
      "Archive:  titanic.zip\r\n",
      "  inflating: gender_submission.csv   \r\n",
      "  inflating: test.csv                \r\n",
      "  inflating: train.csv               \r\n"
     ]
    }
   ],
   "source": [
    "!cd nb_data/titanic; unzip titanic.zip; cd ../../"
   ]
  },
  {
   "cell_type": "markdown",
   "id": "focused-highway",
   "metadata": {},
   "source": [
    "Sau khi giải nén, thư mục `nb_data/titanic` có ba file `.csv` như trên. Trong ba file này, `train.csv` là dữ liệu dược dùng để huấn luyện, `test.csv` là dữ liệu cần dự đoán, và `gender_submision.csv` là file nộp kết quả mẫu."
   ]
  },
  {
   "cell_type": "code",
   "execution_count": 3,
   "id": "royal-tomorrow",
   "metadata": {},
   "outputs": [
    {
     "name": "stdout",
     "output_type": "stream",
     "text": [
      "<class 'pandas.core.frame.DataFrame'>\n",
      "RangeIndex: 891 entries, 0 to 890\n",
      "Data columns (total 12 columns):\n",
      " #   Column       Non-Null Count  Dtype  \n",
      "---  ------       --------------  -----  \n",
      " 0   PassengerId  891 non-null    int64  \n",
      " 1   Survived     891 non-null    int64  \n",
      " 2   Pclass       891 non-null    int64  \n",
      " 3   Name         891 non-null    object \n",
      " 4   Sex          891 non-null    object \n",
      " 5   Age          714 non-null    float64\n",
      " 6   SibSp        891 non-null    int64  \n",
      " 7   Parch        891 non-null    int64  \n",
      " 8   Ticket       891 non-null    object \n",
      " 9   Fare         891 non-null    float64\n",
      " 10  Cabin        204 non-null    object \n",
      " 11  Embarked     889 non-null    object \n",
      "dtypes: float64(2), int64(5), object(5)\n",
      "memory usage: 83.7+ KB\n"
     ]
    }
   ],
   "source": [
    "import pandas as pd\n",
    "df_train = pd.read_csv(\"nb_data/titanic/train.csv\")\n",
    "df_train.info()"
   ]
  },
  {
   "cell_type": "markdown",
   "id": "defensive-albuquerque",
   "metadata": {},
   "source": [
    "Phương thức `.info()` trả về thông tin sơ bộ của `df_train`. Thông tin cụ thể về từng trường dữ liệu có thể tìm thấy tại trang [dữ liệu cuộc thi](https://www.kaggle.com/c/titanic/data). Từ kết quả bên trên ta thấy được:\n",
    "\n",
    "1. Có 891 điểm dữ liệu (891 hàng).\n",
    "2. Các trường `Age, Cabin, Embarked` có ít hơn 891 giá trị `Non-Null`. Điều này có nghĩa là các trường này có dữ liệu bị khuyết.\n",
    "3. Các trường `Name, Sex, Ticket, Cabin, Embarked` có kiểu dữ liệu `Dtype` là `object`, tức các trường này được lưu ở dạng `string`. Các trường còn lại có giá trị là số nguyên (`int64`) hoặc số thực (`float64`). Chú ý rằng chúng ta không nên ngầm hiểu các trường này thực sự có ý nghĩa là số, ở đây vì chúng ta không chỉ rõ kiểu dữ liệu khi đọc file `.csv` bằng `pd.read_csv` nên `pandas` tự suy ra kiểu dữ liệu. Trong bộ dữ liệu này mỗi `PasengerId` là một mã hành khách, có thể là một giá trị bất kỳ không lặp lại. Chúng ta cần xác định rõ kiểu của từng trường dữ liệu, mô hình ML thường có những cách xử lý khác nhau giữa kiểu dữ liệu dạng số và dạng hạng mục.\n",
    "\n",
    "Tiếp theo, để có cái nhìn nhanh về các trường dữ liệu dạng số, thuộc tính `describe()` được sử dụng:"
   ]
  },
  {
   "cell_type": "code",
   "execution_count": 4,
   "id": "taken-chess",
   "metadata": {},
   "outputs": [
    {
     "name": "stdout",
     "output_type": "stream",
     "text": [
      "Hello\n"
     ]
    }
   ],
   "source": [
    "df_train.describe()\n",
    "print(\"Hello\")"
   ]
  },
  {
   "cell_type": "markdown",
   "id": "outside-jones",
   "metadata": {},
   "source": [
    "Kết quả trả về giúp chúng ta có cái nhìn khái quát về phân phối của các trường dữ liệu dạng số. Một vài quan sát:\n",
    "\n",
    "1. Cột `Survived` là cột chứa nhãn của mỗi hàng. Giá trị nhỏ nhất bằng 0 và giá trị lớn nhất bằng 1, cùng với việc kiểu dữ liệu là `int64`, ta có thể nói rằng kiểu dữ liệu của trường này là nhị phân [^1]. Ở đây, giá trị `1` mang nghĩa là sống sót và `0` mang nghĩa ngược lại. Giá trị trung bình `mean = 0.3838` cũng giúp chỉ ra rằng khoảng 38.4% dữ liệu thuộc class `1` so với khoảng 61.6% dữ liệu thuộc class `0`. Dữ liệu có bị lệch nhưng không quá nghiêm trọng.\n",
    "\n",
    "2. Cột \n",
    " \n",
    "\n",
    "\n",
    "[^1]: Khi không xác định rõ kiểu dữ liệu, `pandas` tự chuyển kiểu nhị phân về `int64`, số thực về `float64`. Với các tập dữ liệu lớn, việc không xác định rõ kiểu khi đọc dữ liệu có thể dẫn tới tình trạng tràn bộ nhớ."
   ]
  }
 ],
 "metadata": {
  "jupytext": {
   "formats": "md:myst",
   "text_representation": {
    "extension": ".md",
    "format_name": "myst"
   }
  },
  "kernelspec": {
   "display_name": "Python 3",
   "language": "python",
   "name": "python3"
  },
  "language_info": {
   "codemirror_mode": {
    "name": "ipython",
    "version": 3
   },
   "file_extension": ".py",
   "mimetype": "text/x-python",
   "name": "python",
   "nbconvert_exporter": "python",
   "pygments_lexer": "ipython3",
   "version": "3.8.7"
  },
  "source_map": [
   11,
   15,
   21,
   26,
   28,
   34,
   38,
   50,
   53
  ]
 },
 "nbformat": 4,
 "nbformat_minor": 5
}