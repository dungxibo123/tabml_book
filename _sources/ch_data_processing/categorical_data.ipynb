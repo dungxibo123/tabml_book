{
 "cells": [
  {
   "cell_type": "markdown",
   "id": "animal-rocket",
   "metadata": {},
   "source": [
    "# Đặc trưng hạng mục\n",
    "\n",
    "(sec_one_hot)=\n",
    "## Mã hóa one-hot\n",
    "\n",
    "(sec_embedding)=\n",
    "## Embedding\n",
    "\n",
    "## Hashing"
   ]
  }
 ],
 "metadata": {
  "kernelspec": {
   "display_name": "Python 3",
   "language": "python",
   "name": "python3"
  },
  "language_info": {
   "codemirror_mode": {
    "name": "ipython",
    "version": 3
   },
   "file_extension": ".py",
   "mimetype": "text/x-python",
   "name": "python",
   "nbconvert_exporter": "python",
   "pygments_lexer": "ipython3",
   "version": "3.8.7"
  }
 },
 "nbformat": 4,
 "nbformat_minor": 5
}
