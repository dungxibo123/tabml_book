{
 "cells": [
  {
   "cell_type": "markdown",
   "id": "weighted-milan",
   "metadata": {},
   "source": [
    "# EDA (WIP)\n",
    "\n",
    "EDA (Exploratory Data Analysis -- Phân tích Khám phá Dữ liệu) là một bước quan trọng trước khi làm bất kỳ một bài toán ML với dữ liệu dạng bảng nào.\n",
    "\n",
    "*Trước khi xây dựng mô hình, bạn cần xây dựng đặc trưng. Trước khi xây dựng đặc trưng, bạn phải làm bước khám phá dữ liệu.*\n",
    "\n",
    "## Mục đích của EDA\n",
    "\n",
    "Bước EDA này giúp chúng ta có cái nhìn đầu tiên về dữ liệu.\n",
    "Bạn cần có một cảm giác nhất định về những gì mình có trong tay trước khi có những chiến lược xây dựng mô hình.\n",
    "EDA giúp bạn mường tượng được độ phức tạp của bài toán và vạch ra những bước đầu tiên cần làm.\n",
    "\n",
    "```{note}\n",
    "Để phân biệt dữ liệu trước và sau bước tiền xử lý, các cột trong bảng dữ liệu ban đầu được gọi là *trường dữ liệu*. Các cột đã được xử lý và sẵn sàng cho việc huấn luyện mô hình được gọi là *đặc trưng*.\n",
    "```\n",
    "\n",
    "Vậy, làm EDA là làm những gì?\n",
    "\n",
    "Dưới đây là danh sách những câu hỏi bạn cần trả lời ở bước EDA:\n",
    "\n",
    "1. Có bao nhiêu mẫu dữ liệu tổng cộng?\n",
    "\n",
    "2. Có bao nhiêu trường thông tin trong dữ liệu?\n",
    "\n",
    "3. Bạn có thông tin về ý nghĩa của từng trường dữ liệu không?\n",
    "\n",
    "4. Có bao nhiêu trường dữ liệu ở dạng số, bao nhiêu ở dạng hạng mục.\n",
    "\n",
    "5. Phân bố của từng trường dữ liệu như thế nào? Phân bố đó có bị lệch không? Mỗi trường dữ liệu có bao nhiêu giá trị bị khuyết, có nhiều phần tử ngoại lai (_outliers_) không.\n",
    "\n",
    "6. Trong các trường dữ liệu đó, trường dữ liệu nào có mối tương quan cao với nhãn cần dự đoán.\n",
    "\n",
    "Trả lời được những câu hỏi này sẽ giúp ích rất nhiều cho việc làm sạch dữ liệu và xây dựng đặc trưng sau này.\n",
    "\n",
    "Việc khám phá dữ liệu không chỉ dừng lại ở lần đầu tiên trước khi xây dựng đặc trưng mà còn cần được thực hiện trong suốt quá trình phát triển hệ thống.\n",
    "Sau khi xây dựng xong các đặc trưng, bạn cũng cần làm lại EDA một lần nữa để xem dữ liệu đã qua xử lý đó đã thực sự _sạch_ chưa.\n",
    "Ngoài ra, sau khi xây dựng và phân tích mô hình, ta cũng thường xuyên cần quay lại EDA để tiếp tục khám phá những điều còn ẩn giấu trong dữ liệu bài toán. Càng hiểu sâu về dữ liệu, bạn sẽ càng sớm giải thích được những hành vi của mô hình và đưa ra những thay đổi phù hợp.\n",
    "\n",
    "## Ví dụ với dữ liệu Titanic\n",
    "\n",
    "Cùng làm quen với EDA thông qua ví dụ với bộ dữ liệu đơn giản Titanic.\n",
    "Bộ dữ liệu này gồm có ba file:"
   ]
  },
  {
   "cell_type": "code",
   "execution_count": 1,
   "id": "second-allocation",
   "metadata": {},
   "outputs": [
    {
     "name": "stdout",
     "output_type": "stream",
     "text": [
      "ls: data/titanic: No such file or directory\r\n"
     ]
    }
   ],
   "source": [
    "!cd ../\n",
    "!ls data/titanic"
   ]
  },
  {
   "cell_type": "markdown",
   "id": "suspected-watch",
   "metadata": {},
   "source": [
    "Cùng xem nhanh dữ liệu trong ba file này bằng cách mở một vài dòng đầu tiên của mỗi file."
   ]
  },
  {
   "cell_type": "code",
   "execution_count": 2,
   "id": "legal-skiing",
   "metadata": {},
   "outputs": [
    {
     "data": {
      "text/html": [
       "<div>\n",
       "<style scoped>\n",
       "    .dataframe tbody tr th:only-of-type {\n",
       "        vertical-align: middle;\n",
       "    }\n",
       "\n",
       "    .dataframe tbody tr th {\n",
       "        vertical-align: top;\n",
       "    }\n",
       "\n",
       "    .dataframe thead th {\n",
       "        text-align: right;\n",
       "    }\n",
       "</style>\n",
       "<table border=\"1\" class=\"dataframe\">\n",
       "  <thead>\n",
       "    <tr style=\"text-align: right;\">\n",
       "      <th></th>\n",
       "      <th>PassengerId</th>\n",
       "      <th>Survived</th>\n",
       "    </tr>\n",
       "  </thead>\n",
       "  <tbody>\n",
       "    <tr>\n",
       "      <th>0</th>\n",
       "      <td>892</td>\n",
       "      <td>0</td>\n",
       "    </tr>\n",
       "    <tr>\n",
       "      <th>1</th>\n",
       "      <td>893</td>\n",
       "      <td>1</td>\n",
       "    </tr>\n",
       "    <tr>\n",
       "      <th>2</th>\n",
       "      <td>894</td>\n",
       "      <td>0</td>\n",
       "    </tr>\n",
       "    <tr>\n",
       "      <th>3</th>\n",
       "      <td>895</td>\n",
       "      <td>0</td>\n",
       "    </tr>\n",
       "    <tr>\n",
       "      <th>4</th>\n",
       "      <td>896</td>\n",
       "      <td>1</td>\n",
       "    </tr>\n",
       "  </tbody>\n",
       "</table>\n",
       "</div>"
      ],
      "text/plain": [
       "   PassengerId  Survived\n",
       "0          892         0\n",
       "1          893         1\n",
       "2          894         0\n",
       "3          895         0\n",
       "4          896         1"
      ]
     },
     "execution_count": 2,
     "metadata": {},
     "output_type": "execute_result"
    }
   ],
   "source": [
    "import pandas as pd\n",
    "df_train = pd.read_csv(\"../data/titanic/train.csv\")\n",
    "df_train.head(5)\n",
    "\n",
    "df_test = pd.read_csv(\"../data/titanic/test.csv\")\n",
    "df_test.head(5)\n",
    "\n",
    "df_sub = pd.read_csv(\"../data/titanic/gender_submission.csv\")\n",
    "df_sub.head(5)"
   ]
  },
  {
   "cell_type": "markdown",
   "id": "front-attribute",
   "metadata": {},
   "source": [
    "Chúng ta có thể thấy nhanh rằng:\n",
    "\n",
    "* File `train.csv` và `test.csv` có tập hợp các cột với tên gần như nhau, ngoài trừ việc cột `\"Survived\"` không xuất hiện ở file `test.csv`. Bài toán đặt ra là dùng các cột còn lại của file `train.csv` để huấn luyện một mô hình sao cho nó có thể dự đoán được cột `\"Survived\"` này dựa trên những cột của file `test.csv`.\n",
    "\n",
    "* File `gender_submission.csv` chỉ có hai cột `\"PassengerID\"` và `\"Survived\"`; đây là file nộp bài mẫu mà người chơi cần hoàn thiện. Cột `\"PassengerID\"` bao gồm những mã số hành khách có trong tập `test.csv` trong khi cột `\"Survived\"` chứa các giá trị dự đoán mà người chơi cần thay thế. Các giá trị mẫu này tương ứng với việc dự đoán chỉ có giới tính `\"female\"` là sống sót. Đây có thể coi là một giải pháp nền (_baseline_) cho bài toán khi chỉ sử dụng một đặc trưng duy nhất là `\"Sex\"`.\n",
    "\n",
    "* Cột `\"Cabin\"` trong hai file dữ liệu có những giá trị bị khuyết.\n",
    "\n",
    "**Ý nghĩa của từng trường thông tin**\n",
    "\n",
    "Trước khi đi tìm hướng giải quyết bài toán, chúng ta cần biết ý nghĩa của các cột còn lại (được tìm thấy tại [trang web cuộc thi](https://www.kaggle.com/c/titanic/data):\n",
    "\n",
    "* `\"Pclass\"`: hạng ghế. 1 = hạng _Upper_, 2 = hạng _Middle_, 3 = hạng _Lower_. Như vậy, trường thông tin `\"Pclass\"` vừa có thể coi là một đặc trưng hạng mục, vừa có thể coi là một đặc trưng dạng số vì nó có thứ tự. Đặc trưng này khả năng ảnh hưởng tới khả năng sống sót của hành khách vì hạng sang hơn có thể có các biện pháp an toàn tốt hơn (hoặc cũng có thể ngược lại là chủ quan hơn).\n",
    "\n",
    "* `\"Sex\"`: giới tính hành khách.\n",
    "\n",
    "* `\"Age\"`: tuổi của hành khách. Nếu tuổi nhỏ hơn 1 thì ở dạng số lẻ (0.42), nếu tuổi là ước lượng thì ở dạng xx.5. Rõ ràng đây cùng sẽ là một đặc trưng tiềm năng để dự đoán kết quả cho bài toán vì trẻ em và người già ở vào nhóm có nguy cơ cao hơn.\n",
    "\n",
    "* `\"Sibsp\"`: số lượng anh chị em hoặc vợ/chồng cùng ở trên tàu.\n",
    "\n",
    "* `\"Parch\"`: số lượng bô mẹ/con cái cùng ở trên tàu.\n",
    "\n",
    "* `\"Ticket\"`: mã số vé.\n",
    "\n",
    "* `\"Fare\"`: giá vé.\n",
    "\n",
    "* `\"Cabin\"`: mã số cabin.\n",
    "\n",
    "* `\"Embarked\"`: Nơi lên tàu, `C` = Cherbourg, `Q` = Queenstown, `S` = Southamton. \n",
    "\n",
    "Trong những thông tin trên, chúng ta có thể thấy có những thông tin ở dạng số như `Age, Fare, Parch, Sibsp`, có những thông tin ở dạng hạng mục như `Pclass, Sex, Ticket, Cabin, Embarked`. Đánh giá ban đầu có thể cho ta nhận định rằng có những thông tin có thể hữu ích cho việc xây dựng mô hình như `Pclass, Age, Parch, Sibsp` và những thông in có thể ít hữu ích hơn như `Cabin, Embarked, Ticket, Fare`.\n",
    "\n",
    "\n",
    "Đây là một bộ dữ liệu nhỏ với chỉ hơn 1000 mẫu trong cả hai tập huấn luyện và kiểm tra.\n",
    "Khi dữ liệu lơn hơn, chúng ta cần có cái nhìn bao quát hơn về dữ liệu thông qua các bảng thống kê của từng trường thông tin.\n",
    "Thư viện [`pandas`](https://pandas.pydata.org/) là một trong các thư viện phổ biến nhất để xử lý dữ liệu dạng bảng.\n",
    "\n",
    "```{margin}\n",
    "Vì pandas thường cần load toàn bộ file vào RAM nên nó không phù hợp với các bộ dữ liệu lớn.\n",
    "Với dữ liệu lớn, mời bạn đọc thêm về [dask](https://dask.org/), [modin](https://modin.readthedocs.io/en/latest/) với cú pháp tương tự pandas hoặc [pyspark](https://spark.apache.org/docs/latest/api/python/) cho việc xử lý dữ liệu trên các hệ phân tán. \n",
    "```\n",
    "\n",
    "\n",
    "```{toctree}\n",
    ":hidden:\n",
    ":titlesonly:\n",
    "\n",
    "\n",
    "titanic_overview\n",
    "titanic_numeric\n",
    "titanic_categorical\n",
    "pandas-profiling\n",
    "```"
   ]
  }
 ],
 "metadata": {
  "jupytext": {
   "text_representation": {
    "extension": ".md",
    "format_name": "myst",
    "format_version": 0.12,
    "jupytext_version": "1.8.2"
   }
  },
  "kernelspec": {
   "display_name": "Python 3",
   "language": "python",
   "name": "python3"
  },
  "language_info": {
   "codemirror_mode": {
    "name": "ipython",
    "version": 3
   },
   "file_extension": ".py",
   "mimetype": "text/x-python",
   "name": "python",
   "nbconvert_exporter": "python",
   "pygments_lexer": "ipython3",
   "version": "3.8.7"
  },
  "source_map": [
   12,
   57,
   60,
   64,
   74
  ]
 },
 "nbformat": 4,
 "nbformat_minor": 5
}